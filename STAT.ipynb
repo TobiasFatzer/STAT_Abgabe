{
 "cells": [
  {
   "cell_type": "code",
   "execution_count": 506,
   "outputs": [],
   "source": [
    "import os\n",
    "from datetime import datetime\n",
    "\n",
    "import numpy as np\n",
    "import pandas as pd\n",
    "import statistics\n",
    "import yfinance as yf #Import from Yahoofinance API: https://python-yahoofinance.readthedocs.io/en/latest/api.html\n",
    "import matplotlib.pyplot as plt #Import matplotlip\n"
   ],
   "metadata": {
    "collapsed": false,
    "pycharm": {
     "name": "#%%\n"
    }
   }
  },
  {
   "cell_type": "markdown",
   "source": [],
   "metadata": {
    "collapsed": false
   }
  },
  {
   "cell_type": "code",
   "execution_count": 530,
   "outputs": [
    {
     "name": "stdout",
     "output_type": "stream",
     "text": [
      "2022-03-01 00:00:00\n",
      "2022-02-01 00:00:00\n",
      "2022-01-01 00:00:00\n",
      "2021-12-01 00:00:00\n",
      "2021-11-01 00:00:00\n",
      "2021-10-01 00:00:00\n",
      "2021-09-01 00:00:00\n",
      "2021-08-01 00:00:00\n",
      "2021-07-01 00:00:00\n",
      "2021-06-01 00:00:00\n",
      "2021-05-01 00:00:00\n",
      "2021-04-01 00:00:00\n",
      "2021-03-01 00:00:00\n",
      "2021-02-01 00:00:00\n",
      "2021-01-01 00:00:00\n",
      "2020-12-01 00:00:00\n",
      "2020-11-01 00:00:00\n",
      "2020-10-01 00:00:00\n",
      "2020-09-01 00:00:00\n",
      "2020-08-01 00:00:00\n",
      "2020-07-01 00:00:00\n",
      "2020-06-01 00:00:00\n",
      "2020-05-01 00:00:00\n",
      "2020-04-01 00:00:00\n"
     ]
    },
    {
     "name": "stderr",
     "output_type": "stream",
     "text": [
      "/var/folders/6t/58y6yv811w10wnszm6q68gph0000gn/T/ipykernel_33625/597820096.py:9: SettingWithCopyWarning: \n",
      "A value is trying to be set on a copy of a slice from a DataFrame\n",
      "\n",
      "See the caveats in the documentation: https://pandas.pydata.org/pandas-docs/stable/user_guide/indexing.html#returning-a-view-versus-a-copy\n",
      "  dataframe['Date'][i] = datetime.strptime(str( dataframe['Date'][i]), '%b %y')\n"
     ]
    },
    {
     "data": {
      "text/plain": "                Price       Open       High        Low     Vol.  Change %  \\\nDate                                                                        \n2020-04-01   9,629.40   9,311.92   9,948.84   9,036.73    1.72B      3.41   \n2020-05-01   9,831.49   9,618.93   9,966.05   9,389.66    1.48B      2.10   \n2020-06-01  10,045.30   9,874.84  10,291.46   9,633.20    1.75B      2.17   \n2020-07-01  10,005.90  10,027.45  10,535.33   9,984.99    1.27B     -0.39   \n2020-08-01  10,135.56  10,013.36  10,356.75   9,999.55  903.60M      1.30   \n2020-09-01  10,187.00  10,228.97  10,591.66  10,091.98    1.36B      0.51   \n2020-10-01   9,587.15  10,256.95  10,407.01   9,494.52    1.25B     -5.89   \n2020-11-01  10,476.43   9,595.66  10,644.22   9,556.93    1.52B      9.28   \n2020-12-01  10,703.51  10,473.33  10,749.68  10,237.94    1.11B      2.17   \n2021-01-01  10,591.06  10,805.93  11,014.28  10,591.06    1.16B     -1.05   \n2021-02-01  10,522.22  10,666.16  10,953.42  10,513.43  929.63M     -0.65   \n2021-03-01  11,047.37  10,659.26  11,143.86  10,606.08    1.40B      4.99   \n2021-04-01  11,022.34  11,102.29  11,266.78  11,022.34    1.14B     -0.23   \n2021-05-01  11,363.45  11,072.54  11,443.97  10,932.85  848.37M      3.09   \n2021-06-01  11,942.72  11,415.20  12,072.11  11,389.88  906.75M      5.10   \n2021-07-01  12,116.82  11,993.98  12,146.68  11,799.23  767.21M      1.46   \n2021-08-01  12,411.11  12,165.21  12,573.43  12,124.36  665.34M      2.43   \n2021-09-01  11,642.45  12,472.04  12,491.18  11,465.59  882.50M     -6.19   \n2021-10-01  12,108.17  11,491.08  12,153.10  11,381.74  714.40M      4.00   \n2021-11-01  12,159.69  12,174.92  12,625.81  12,071.67  898.16M      0.43   \n2021-12-01  12,875.66  12,207.76  12,980.14  12,093.37  743.35M      5.89   \n2022-01-01  12,226.70  12,934.42  12,997.15  11,867.78  918.37M     -5.04   \n2022-02-01  11,986.78  12,338.54  12,422.95  11,480.76    1.06B     -1.96   \n2022-03-01  12,273.10  11,962.70  12,388.97  10,872.65   55.82M      2.39   \n\n               Close  \nDate                  \n2020-04-01   9629.40  \n2020-05-01   9831.49  \n2020-06-01  10045.30  \n2020-07-01  10005.90  \n2020-08-01  10135.56  \n2020-09-01  10187.00  \n2020-10-01   9587.15  \n2020-11-01  10476.43  \n2020-12-01  10703.51  \n2021-01-01  10591.06  \n2021-02-01  10522.22  \n2021-03-01  11047.37  \n2021-04-01  11022.34  \n2021-05-01  11363.45  \n2021-06-01  11942.72  \n2021-07-01  12116.82  \n2021-08-01  12411.11  \n2021-09-01  11642.45  \n2021-10-01  12108.17  \n2021-11-01  12159.69  \n2021-12-01  12875.66  \n2022-01-01  12226.70  \n2022-02-01  11986.78  \n2022-03-01  12273.10  ",
      "text/html": "<div>\n<style scoped>\n    .dataframe tbody tr th:only-of-type {\n        vertical-align: middle;\n    }\n\n    .dataframe tbody tr th {\n        vertical-align: top;\n    }\n\n    .dataframe thead th {\n        text-align: right;\n    }\n</style>\n<table border=\"1\" class=\"dataframe\">\n  <thead>\n    <tr style=\"text-align: right;\">\n      <th></th>\n      <th>Price</th>\n      <th>Open</th>\n      <th>High</th>\n      <th>Low</th>\n      <th>Vol.</th>\n      <th>Change %</th>\n      <th>Close</th>\n    </tr>\n    <tr>\n      <th>Date</th>\n      <th></th>\n      <th></th>\n      <th></th>\n      <th></th>\n      <th></th>\n      <th></th>\n      <th></th>\n    </tr>\n  </thead>\n  <tbody>\n    <tr>\n      <th>2020-04-01</th>\n      <td>9,629.40</td>\n      <td>9,311.92</td>\n      <td>9,948.84</td>\n      <td>9,036.73</td>\n      <td>1.72B</td>\n      <td>3.41</td>\n      <td>9629.40</td>\n    </tr>\n    <tr>\n      <th>2020-05-01</th>\n      <td>9,831.49</td>\n      <td>9,618.93</td>\n      <td>9,966.05</td>\n      <td>9,389.66</td>\n      <td>1.48B</td>\n      <td>2.10</td>\n      <td>9831.49</td>\n    </tr>\n    <tr>\n      <th>2020-06-01</th>\n      <td>10,045.30</td>\n      <td>9,874.84</td>\n      <td>10,291.46</td>\n      <td>9,633.20</td>\n      <td>1.75B</td>\n      <td>2.17</td>\n      <td>10045.30</td>\n    </tr>\n    <tr>\n      <th>2020-07-01</th>\n      <td>10,005.90</td>\n      <td>10,027.45</td>\n      <td>10,535.33</td>\n      <td>9,984.99</td>\n      <td>1.27B</td>\n      <td>-0.39</td>\n      <td>10005.90</td>\n    </tr>\n    <tr>\n      <th>2020-08-01</th>\n      <td>10,135.56</td>\n      <td>10,013.36</td>\n      <td>10,356.75</td>\n      <td>9,999.55</td>\n      <td>903.60M</td>\n      <td>1.30</td>\n      <td>10135.56</td>\n    </tr>\n    <tr>\n      <th>2020-09-01</th>\n      <td>10,187.00</td>\n      <td>10,228.97</td>\n      <td>10,591.66</td>\n      <td>10,091.98</td>\n      <td>1.36B</td>\n      <td>0.51</td>\n      <td>10187.00</td>\n    </tr>\n    <tr>\n      <th>2020-10-01</th>\n      <td>9,587.15</td>\n      <td>10,256.95</td>\n      <td>10,407.01</td>\n      <td>9,494.52</td>\n      <td>1.25B</td>\n      <td>-5.89</td>\n      <td>9587.15</td>\n    </tr>\n    <tr>\n      <th>2020-11-01</th>\n      <td>10,476.43</td>\n      <td>9,595.66</td>\n      <td>10,644.22</td>\n      <td>9,556.93</td>\n      <td>1.52B</td>\n      <td>9.28</td>\n      <td>10476.43</td>\n    </tr>\n    <tr>\n      <th>2020-12-01</th>\n      <td>10,703.51</td>\n      <td>10,473.33</td>\n      <td>10,749.68</td>\n      <td>10,237.94</td>\n      <td>1.11B</td>\n      <td>2.17</td>\n      <td>10703.51</td>\n    </tr>\n    <tr>\n      <th>2021-01-01</th>\n      <td>10,591.06</td>\n      <td>10,805.93</td>\n      <td>11,014.28</td>\n      <td>10,591.06</td>\n      <td>1.16B</td>\n      <td>-1.05</td>\n      <td>10591.06</td>\n    </tr>\n    <tr>\n      <th>2021-02-01</th>\n      <td>10,522.22</td>\n      <td>10,666.16</td>\n      <td>10,953.42</td>\n      <td>10,513.43</td>\n      <td>929.63M</td>\n      <td>-0.65</td>\n      <td>10522.22</td>\n    </tr>\n    <tr>\n      <th>2021-03-01</th>\n      <td>11,047.37</td>\n      <td>10,659.26</td>\n      <td>11,143.86</td>\n      <td>10,606.08</td>\n      <td>1.40B</td>\n      <td>4.99</td>\n      <td>11047.37</td>\n    </tr>\n    <tr>\n      <th>2021-04-01</th>\n      <td>11,022.34</td>\n      <td>11,102.29</td>\n      <td>11,266.78</td>\n      <td>11,022.34</td>\n      <td>1.14B</td>\n      <td>-0.23</td>\n      <td>11022.34</td>\n    </tr>\n    <tr>\n      <th>2021-05-01</th>\n      <td>11,363.45</td>\n      <td>11,072.54</td>\n      <td>11,443.97</td>\n      <td>10,932.85</td>\n      <td>848.37M</td>\n      <td>3.09</td>\n      <td>11363.45</td>\n    </tr>\n    <tr>\n      <th>2021-06-01</th>\n      <td>11,942.72</td>\n      <td>11,415.20</td>\n      <td>12,072.11</td>\n      <td>11,389.88</td>\n      <td>906.75M</td>\n      <td>5.10</td>\n      <td>11942.72</td>\n    </tr>\n    <tr>\n      <th>2021-07-01</th>\n      <td>12,116.82</td>\n      <td>11,993.98</td>\n      <td>12,146.68</td>\n      <td>11,799.23</td>\n      <td>767.21M</td>\n      <td>1.46</td>\n      <td>12116.82</td>\n    </tr>\n    <tr>\n      <th>2021-08-01</th>\n      <td>12,411.11</td>\n      <td>12,165.21</td>\n      <td>12,573.43</td>\n      <td>12,124.36</td>\n      <td>665.34M</td>\n      <td>2.43</td>\n      <td>12411.11</td>\n    </tr>\n    <tr>\n      <th>2021-09-01</th>\n      <td>11,642.45</td>\n      <td>12,472.04</td>\n      <td>12,491.18</td>\n      <td>11,465.59</td>\n      <td>882.50M</td>\n      <td>-6.19</td>\n      <td>11642.45</td>\n    </tr>\n    <tr>\n      <th>2021-10-01</th>\n      <td>12,108.17</td>\n      <td>11,491.08</td>\n      <td>12,153.10</td>\n      <td>11,381.74</td>\n      <td>714.40M</td>\n      <td>4.00</td>\n      <td>12108.17</td>\n    </tr>\n    <tr>\n      <th>2021-11-01</th>\n      <td>12,159.69</td>\n      <td>12,174.92</td>\n      <td>12,625.81</td>\n      <td>12,071.67</td>\n      <td>898.16M</td>\n      <td>0.43</td>\n      <td>12159.69</td>\n    </tr>\n    <tr>\n      <th>2021-12-01</th>\n      <td>12,875.66</td>\n      <td>12,207.76</td>\n      <td>12,980.14</td>\n      <td>12,093.37</td>\n      <td>743.35M</td>\n      <td>5.89</td>\n      <td>12875.66</td>\n    </tr>\n    <tr>\n      <th>2022-01-01</th>\n      <td>12,226.70</td>\n      <td>12,934.42</td>\n      <td>12,997.15</td>\n      <td>11,867.78</td>\n      <td>918.37M</td>\n      <td>-5.04</td>\n      <td>12226.70</td>\n    </tr>\n    <tr>\n      <th>2022-02-01</th>\n      <td>11,986.78</td>\n      <td>12,338.54</td>\n      <td>12,422.95</td>\n      <td>11,480.76</td>\n      <td>1.06B</td>\n      <td>-1.96</td>\n      <td>11986.78</td>\n    </tr>\n    <tr>\n      <th>2022-03-01</th>\n      <td>12,273.10</td>\n      <td>11,962.70</td>\n      <td>12,388.97</td>\n      <td>10,872.65</td>\n      <td>55.82M</td>\n      <td>2.39</td>\n      <td>12273.10</td>\n    </tr>\n  </tbody>\n</table>\n</div>"
     },
     "execution_count": 530,
     "metadata": {},
     "output_type": "execute_result"
    }
   ],
   "source": [
    "#answer = input(\"Would you like stored or fresh data? (stored, fresh)\")\n",
    "answer = 'stored'\n",
    "if(answer == 'stored'):\n",
    "    dataframe = pd.read_csv(os.path.dirname(os.path.realpath('SMI_Historical_Data.csv')) + '/SMI_Historical_Data.csv')\n",
    "    dataframe['Close'] = dataframe['Price'].str.replace(',','').astype(float)\n",
    "    dataframe['Change %'] = dataframe['Change %'].str.replace('%','').astype(float)\n",
    "    dataframe = dataframe.iloc[::-1]\n",
    "    for i in range(0, len(dataframe.index)):\n",
    "        dataframe['Date'][i] = datetime.strptime(str( dataframe['Date'][i]), '%b %y')\n",
    "    dataframe.index = dataframe['Date']\n",
    "    dataframe.drop('Date', axis=1, inplace=True)\n",
    "\n",
    "    #dataframe.index = pd.to_datetime(datetime.strptime(str(dataframe.index), '%M%Y'))\n",
    "\n",
    "\n",
    "if(answer == 'fresh'):\n",
    "    # yf.download gets data from SMI Index (Ticker) with a span from April 2020 until March 2022 in monthly intervals\n",
    "    dataframe = pd.DataFrame(yf.download(tickers=['^SSMI'], start='2020-04-01', end='2022-03-23'))\n",
    "\n",
    "    #dataframe_fresh.index = pd.to_datetime(dataframe_fresh.index, format='%dd.%mm.%Y'\n",
    "\n",
    "dataframe"
   ],
   "metadata": {
    "collapsed": false,
    "pycharm": {
     "name": "#%%\n"
    }
   }
  },
  {
   "cell_type": "code",
   "execution_count": 531,
   "outputs": [
    {
     "name": "stdout",
     "output_type": "stream",
     "text": [
      "Median \t\t\t\t\t\t\t 1.78 %\n",
      "Erste Quartille \t\t\t\t-0.455 %\n",
      "Arithmetische Mittel (ex ante) \t 1.2207792244340074 %\n",
      "Geometrisches Mittel (ex post) \t 2.8539855171416204\n"
     ]
    },
    {
     "data": {
      "text/plain": "            Min_Prediction_Value  Median  Max_Prediction_Value\n2022-03-22             -1.795206    1.78              5.355206",
      "text/html": "<div>\n<style scoped>\n    .dataframe tbody tr th:only-of-type {\n        vertical-align: middle;\n    }\n\n    .dataframe tbody tr th {\n        vertical-align: top;\n    }\n\n    .dataframe thead th {\n        text-align: right;\n    }\n</style>\n<table border=\"1\" class=\"dataframe\">\n  <thead>\n    <tr style=\"text-align: right;\">\n      <th></th>\n      <th>Min_Prediction_Value</th>\n      <th>Median</th>\n      <th>Max_Prediction_Value</th>\n    </tr>\n  </thead>\n  <tbody>\n    <tr>\n      <th>2022-03-22</th>\n      <td>-1.795206</td>\n      <td>1.78</td>\n      <td>5.355206</td>\n    </tr>\n  </tbody>\n</table>\n</div>"
     },
     "execution_count": 531,
     "metadata": {},
     "output_type": "execute_result"
    }
   ],
   "source": [
    "\n",
    "#Create Dataframe in pandas\n",
    "\n",
    "dataframe['Renditeverteilung'] = round(dataframe['Close'] * 100 / dataframe['Close'].shift() - 100, 2)\n",
    "\n",
    "\n",
    "\n",
    "dataframe['diskrete Rendite'] = (dataframe['Close']/dataframe['Close'].shift() - 1)*100\n",
    "\n",
    "\n",
    "\n",
    "if dataframe['Renditeverteilung'].isnull().values.any() or dataframe['diskrete Rendite'].isnull().values.any() :\n",
    "    dataframe[\"Renditeverteilung\"].fillna(dataframe['Change %'], inplace = True)\n",
    "    dataframe[\"diskrete Rendite\"].fillna(dataframe['Change %'], inplace = True)\n",
    "\n",
    "geomid = pow(dataframe['diskrete Rendite'][0] * dataframe['diskrete Rendite'][len(dataframe['diskrete Rendite'])-1],1/2)\n",
    "\n",
    "print(\"Median \\t\\t\\t\\t\\t\\t\\t \" + str(dataframe['Renditeverteilung'].median()) + \" %\")\n",
    "print(\"Erste Quartille \\t\\t\\t\\t\" + str(dataframe['Renditeverteilung'].describe()['25%']) + \" %\")\n",
    "print(\"Arithmetische Mittel (ex ante) \\t \" + str(dataframe['diskrete Rendite'].mean()) + \" %\")\n",
    "print(\"Geometrisches Mittel (ex post) \\t \" + str(geomid))\n",
    "\n",
    "\n",
    "df = pd.DataFrame(index=['2022-03-22'])\n",
    "df.index = pd.to_datetime(df.index)\n",
    "df['Min_Prediction_Value'] = dataframe['Renditeverteilung'].median() - statistics.pstdev(dataframe['Renditeverteilung'])\n",
    "df['Median'] = dataframe['Renditeverteilung'].median()\n",
    "df['Max_Prediction_Value'] = dataframe['Renditeverteilung'].median()+ statistics.pstdev(dataframe['Renditeverteilung'])\n",
    "\n",
    "df\n",
    "\n",
    "\n",
    "\n",
    "\n",
    "#TODO Add boxplot - Hetter weischwie de geili\n",
    "\n",
    "\n"
   ],
   "metadata": {
    "collapsed": false,
    "pycharm": {
     "name": "#%%\n"
    }
   }
  },
  {
   "cell_type": "code",
   "execution_count": 488,
   "outputs": [
    {
     "name": "stdout",
     "output_type": "stream",
     "text": [
      "Standard deviation of the given list: 3.5752058992766025\n"
     ]
    }
   ],
   "source": [
    "st_dev = statistics.pstdev(dataframe['Renditeverteilung'])\n",
    "print(\"Standard deviation of the given list: \" + str(st_dev))"
   ],
   "metadata": {
    "collapsed": false,
    "pycharm": {
     "name": "#%%\n"
    }
   }
  },
  {
   "cell_type": "code",
   "execution_count": null,
   "outputs": [],
   "source": [],
   "metadata": {
    "collapsed": false,
    "pycharm": {
     "name": "#%%\n"
    }
   }
  },
  {
   "cell_type": "code",
   "execution_count": null,
   "outputs": [],
   "source": [],
   "metadata": {
    "collapsed": false,
    "pycharm": {
     "name": "#%%\n"
    }
   }
  },
  {
   "cell_type": "markdown",
   "source": [],
   "metadata": {
    "collapsed": false
   }
  },
  {
   "cell_type": "code",
   "execution_count": 542,
   "outputs": [
    {
     "data": {
      "text/plain": "                     Min_Prediction_Value    Median  Max_Prediction_Value\n2022-03-22 00:00:00             -1.795206  1.780000              5.355206\n1                               -5.299886  3.504680              8.859886\n2                               -8.763897  3.464011             12.323897\n3                              -12.186941  3.423044             15.746941\n4                              -15.569000  3.382059             19.129000\n5                              -18.910274  3.341274             22.470274\n6                              -22.211132  3.300859             25.771132\n7                              -25.472075  3.260942             29.032075\n8                              -28.693698  3.221623             32.253698\n9                              -31.876674  3.182976             35.436674\n10                             -35.021726  3.145053             38.581726\n11                             -38.129620  3.107893             41.689620",
      "text/html": "<div>\n<style scoped>\n    .dataframe tbody tr th:only-of-type {\n        vertical-align: middle;\n    }\n\n    .dataframe tbody tr th {\n        vertical-align: top;\n    }\n\n    .dataframe thead th {\n        text-align: right;\n    }\n</style>\n<table border=\"1\" class=\"dataframe\">\n  <thead>\n    <tr style=\"text-align: right;\">\n      <th></th>\n      <th>Min_Prediction_Value</th>\n      <th>Median</th>\n      <th>Max_Prediction_Value</th>\n    </tr>\n  </thead>\n  <tbody>\n    <tr>\n      <th>2022-03-22 00:00:00</th>\n      <td>-1.795206</td>\n      <td>1.780000</td>\n      <td>5.355206</td>\n    </tr>\n    <tr>\n      <th>1</th>\n      <td>-5.299886</td>\n      <td>3.504680</td>\n      <td>8.859886</td>\n    </tr>\n    <tr>\n      <th>2</th>\n      <td>-8.763897</td>\n      <td>3.464011</td>\n      <td>12.323897</td>\n    </tr>\n    <tr>\n      <th>3</th>\n      <td>-12.186941</td>\n      <td>3.423044</td>\n      <td>15.746941</td>\n    </tr>\n    <tr>\n      <th>4</th>\n      <td>-15.569000</td>\n      <td>3.382059</td>\n      <td>19.129000</td>\n    </tr>\n    <tr>\n      <th>5</th>\n      <td>-18.910274</td>\n      <td>3.341274</td>\n      <td>22.470274</td>\n    </tr>\n    <tr>\n      <th>6</th>\n      <td>-22.211132</td>\n      <td>3.300859</td>\n      <td>25.771132</td>\n    </tr>\n    <tr>\n      <th>7</th>\n      <td>-25.472075</td>\n      <td>3.260942</td>\n      <td>29.032075</td>\n    </tr>\n    <tr>\n      <th>8</th>\n      <td>-28.693698</td>\n      <td>3.221623</td>\n      <td>32.253698</td>\n    </tr>\n    <tr>\n      <th>9</th>\n      <td>-31.876674</td>\n      <td>3.182976</td>\n      <td>35.436674</td>\n    </tr>\n    <tr>\n      <th>10</th>\n      <td>-35.021726</td>\n      <td>3.145053</td>\n      <td>38.581726</td>\n    </tr>\n    <tr>\n      <th>11</th>\n      <td>-38.129620</td>\n      <td>3.107893</td>\n      <td>41.689620</td>\n    </tr>\n  </tbody>\n</table>\n</div>"
     },
     "execution_count": 542,
     "metadata": {},
     "output_type": "execute_result"
    }
   ],
   "source": [
    "tmp_median = dataframe['Renditeverteilung'].tolist()\n",
    "tmp_median.extend(df['Median'].astype(float).tolist())\n",
    "tmp = pd.DataFrame({'tmp_median': tmp_median})\n",
    "allvalMedian = statistics.pstdev(tmp['tmp_median'])\n",
    "\n",
    "#s_row = pd.Series([df['Min_Prediction_Value'][-1] - allvalMedian, allvalMedian, df['Max_Prediction_Value'][-1] - allvalMedian], index=['2022-04-22'])\n",
    "\n",
    "df.loc[len(df.index)] = [df['Min_Prediction_Value'][len(df['Min_Prediction_Value'])-1] - allvalMedian, allvalMedian, df['Max_Prediction_Value'][len(df['Max_Prediction_Value'])-1] + allvalMedian]\n",
    "\n",
    "\n",
    "# Append the above pandas Series object as a row to the existing pandas DataFrame\n",
    "# Using the DataFrame.append() function\n",
    "\n",
    "# Print the modified pandas DataFrame object after addition of a row\n",
    "df"
   ],
   "metadata": {
    "collapsed": false,
    "pycharm": {
     "name": "#%%\n"
    }
   }
  },
  {
   "cell_type": "code",
   "execution_count": 546,
   "outputs": [
    {
     "ename": "ValueError",
     "evalue": "cannot set a row with mismatched columns",
     "output_type": "error",
     "traceback": [
      "\u001B[0;31m---------------------------------------------------------------------------\u001B[0m",
      "\u001B[0;31mValueError\u001B[0m                                Traceback (most recent call last)",
      "Input \u001B[0;32mIn [546]\u001B[0m, in \u001B[0;36m<cell line: 7>\u001B[0;34m()\u001B[0m\n\u001B[1;32m      4\u001B[0m absolut_df[\u001B[38;5;124m'\u001B[39m\u001B[38;5;124mAbsolut_Median\u001B[39m\u001B[38;5;124m'\u001B[39m] \u001B[38;5;241m=\u001B[39m np\u001B[38;5;241m.\u001B[39mnan\n\u001B[1;32m      5\u001B[0m absolut_df[\u001B[38;5;124m'\u001B[39m\u001B[38;5;124mAbsolut_Max_Prediction_Value\u001B[39m\u001B[38;5;124m'\u001B[39m] \u001B[38;5;241m=\u001B[39m np\u001B[38;5;241m.\u001B[39mnan\n\u001B[0;32m----> 7\u001B[0m absolut_df\u001B[38;5;241m.\u001B[39mloc[\u001B[38;5;28mlen\u001B[39m(absolut_df\u001B[38;5;241m.\u001B[39mindex)] \u001B[38;5;241m=\u001B[39m [np\u001B[38;5;241m.\u001B[39mnan,np\u001B[38;5;241m.\u001B[39mnan, np\u001B[38;5;241m.\u001B[39mnan, np\u001B[38;5;241m.\u001B[39mnan, np\u001B[38;5;241m.\u001B[39mnan]\n\u001B[1;32m      8\u001B[0m \u001B[38;5;66;03m#absolut_df.loc[len(absolut_df.index)] = [absolut_df['Close'][len(absolut_df['Close'])-1] * (allvalMedian/100 + 1), absolut_df['Close'][len(absolut_df['Close'])-1] * (allvalMedian/100 + 1), absolut_df['Close'][len(absolut_df['Close'])-1]*(allvalMedian/100+1), absolut_df['Close'][len(absolut_df['Close'])-1] * (allvalMedian/100 + 1)]\u001B[39;00m\n\u001B[1;32m      9\u001B[0m \n\u001B[1;32m     10\u001B[0m \u001B[38;5;66;03m#absolut_df.loc[len(absolut_df.index)] = [absolut_df['Close'][len(absolut_df['Close'])-1] * (allvalMedian/100 + 1), absolut_df['Close'][len(absolut_df['Close'])-1] * (allvalMedian/100 + 1), absolut_df['Close'][len(absolut_df['Close'])-1]*(allvalMedian/100+1), absolut_df['Close'][len(absolut_df['Close'])-1] * (allvalMedian/100 + 1)]\u001B[39;00m\n\u001B[1;32m     11\u001B[0m absolut_df\n",
      "File \u001B[0;32m~/.conda/envs/Test/lib/python3.10/site-packages/pandas/core/indexing.py:716\u001B[0m, in \u001B[0;36m_LocationIndexer.__setitem__\u001B[0;34m(self, key, value)\u001B[0m\n\u001B[1;32m    713\u001B[0m \u001B[38;5;28mself\u001B[39m\u001B[38;5;241m.\u001B[39m_has_valid_setitem_indexer(key)\n\u001B[1;32m    715\u001B[0m iloc \u001B[38;5;241m=\u001B[39m \u001B[38;5;28mself\u001B[39m \u001B[38;5;28;01mif\u001B[39;00m \u001B[38;5;28mself\u001B[39m\u001B[38;5;241m.\u001B[39mname \u001B[38;5;241m==\u001B[39m \u001B[38;5;124m\"\u001B[39m\u001B[38;5;124miloc\u001B[39m\u001B[38;5;124m\"\u001B[39m \u001B[38;5;28;01melse\u001B[39;00m \u001B[38;5;28mself\u001B[39m\u001B[38;5;241m.\u001B[39mobj\u001B[38;5;241m.\u001B[39miloc\n\u001B[0;32m--> 716\u001B[0m \u001B[43miloc\u001B[49m\u001B[38;5;241;43m.\u001B[39;49m\u001B[43m_setitem_with_indexer\u001B[49m\u001B[43m(\u001B[49m\u001B[43mindexer\u001B[49m\u001B[43m,\u001B[49m\u001B[43m \u001B[49m\u001B[43mvalue\u001B[49m\u001B[43m,\u001B[49m\u001B[43m \u001B[49m\u001B[38;5;28;43mself\u001B[39;49m\u001B[38;5;241;43m.\u001B[39;49m\u001B[43mname\u001B[49m\u001B[43m)\u001B[49m\n",
      "File \u001B[0;32m~/.conda/envs/Test/lib/python3.10/site-packages/pandas/core/indexing.py:1682\u001B[0m, in \u001B[0;36m_iLocIndexer._setitem_with_indexer\u001B[0;34m(self, indexer, value, name)\u001B[0m\n\u001B[1;32m   1679\u001B[0m     indexer, missing \u001B[38;5;241m=\u001B[39m convert_missing_indexer(indexer)\n\u001B[1;32m   1681\u001B[0m     \u001B[38;5;28;01mif\u001B[39;00m missing:\n\u001B[0;32m-> 1682\u001B[0m         \u001B[38;5;28;43mself\u001B[39;49m\u001B[38;5;241;43m.\u001B[39;49m\u001B[43m_setitem_with_indexer_missing\u001B[49m\u001B[43m(\u001B[49m\u001B[43mindexer\u001B[49m\u001B[43m,\u001B[49m\u001B[43m \u001B[49m\u001B[43mvalue\u001B[49m\u001B[43m)\u001B[49m\n\u001B[1;32m   1683\u001B[0m         \u001B[38;5;28;01mreturn\u001B[39;00m\n\u001B[1;32m   1685\u001B[0m \u001B[38;5;66;03m# align and set the values\u001B[39;00m\n",
      "File \u001B[0;32m~/.conda/envs/Test/lib/python3.10/site-packages/pandas/core/indexing.py:1998\u001B[0m, in \u001B[0;36m_iLocIndexer._setitem_with_indexer_missing\u001B[0;34m(self, indexer, value)\u001B[0m\n\u001B[1;32m   1995\u001B[0m     \u001B[38;5;28;01mif\u001B[39;00m is_list_like_indexer(value):\n\u001B[1;32m   1996\u001B[0m         \u001B[38;5;66;03m# must have conforming columns\u001B[39;00m\n\u001B[1;32m   1997\u001B[0m         \u001B[38;5;28;01mif\u001B[39;00m \u001B[38;5;28mlen\u001B[39m(value) \u001B[38;5;241m!=\u001B[39m \u001B[38;5;28mlen\u001B[39m(\u001B[38;5;28mself\u001B[39m\u001B[38;5;241m.\u001B[39mobj\u001B[38;5;241m.\u001B[39mcolumns):\n\u001B[0;32m-> 1998\u001B[0m             \u001B[38;5;28;01mraise\u001B[39;00m \u001B[38;5;167;01mValueError\u001B[39;00m(\u001B[38;5;124m\"\u001B[39m\u001B[38;5;124mcannot set a row with mismatched columns\u001B[39m\u001B[38;5;124m\"\u001B[39m)\n\u001B[1;32m   2000\u001B[0m     value \u001B[38;5;241m=\u001B[39m Series(value, index\u001B[38;5;241m=\u001B[39m\u001B[38;5;28mself\u001B[39m\u001B[38;5;241m.\u001B[39mobj\u001B[38;5;241m.\u001B[39mcolumns, name\u001B[38;5;241m=\u001B[39mindexer)\n\u001B[1;32m   2002\u001B[0m \u001B[38;5;28;01mif\u001B[39;00m \u001B[38;5;129;01mnot\u001B[39;00m \u001B[38;5;28mlen\u001B[39m(\u001B[38;5;28mself\u001B[39m\u001B[38;5;241m.\u001B[39mobj):\n\u001B[1;32m   2003\u001B[0m     \u001B[38;5;66;03m# We will ignore the existing dtypes instead of using\u001B[39;00m\n\u001B[1;32m   2004\u001B[0m     \u001B[38;5;66;03m#  internals.concat logic\u001B[39;00m\n",
      "\u001B[0;31mValueError\u001B[0m: cannot set a row with mismatched columns"
     ]
    }
   ],
   "source": [
    "absolut_df = pd.DataFrame(dataframe['Close'])\n",
    "\n",
    "absolut_df['Absolut_Min_Prediction_Value'] = np.nan\n",
    "absolut_df['Absolut_Median'] = np.nan\n",
    "absolut_df['Absolut_Max_Prediction_Value'] = np.nan\n",
    "\n",
    "absolut_df.loc[len(absolut_df.index)] = [np.nan, np.nan, np.nan, np.nan]\n",
    "#absolut_df.loc[len(absolut_df.index)] = [absolut_df['Close'][len(absolut_df['Close'])-1] * (allvalMedian/100 + 1), absolut_df['Close'][len(absolut_df['Close'])-1] * (allvalMedian/100 + 1), absolut_df['Close'][len(absolut_df['Close'])-1]*(allvalMedian/100+1), absolut_df['Close'][len(absolut_df['Close'])-1] * (allvalMedian/100 + 1)]\n",
    "\n",
    "#absolut_df.loc[len(absolut_df.index)] = [absolut_df['Close'][len(absolut_df['Close'])-1] * (allvalMedian/100 + 1), absolut_df['Close'][len(absolut_df['Close'])-1] * (allvalMedian/100 + 1), absolut_df['Close'][len(absolut_df['Close'])-1]*(allvalMedian/100+1), absolut_df['Close'][len(absolut_df['Close'])-1] * (allvalMedian/100 + 1)]\n",
    "absolut_df\n"
   ],
   "metadata": {
    "collapsed": false,
    "pycharm": {
     "name": "#%%\n"
    }
   }
  },
  {
   "cell_type": "markdown",
   "source": [],
   "metadata": {
    "collapsed": false
   }
  },
  {
   "cell_type": "markdown",
   "source": [],
   "metadata": {
    "collapsed": false
   }
  },
  {
   "cell_type": "code",
   "execution_count": 454,
   "outputs": [
    {
     "name": "stdout",
     "output_type": "stream",
     "text": [
      "12491.56118\n"
     ]
    },
    {
     "data": {
      "text/plain": "<Figure size 432x288 with 1 Axes>",
      "image/png": "[encoded data removed]"
     },
     "metadata": {
      "needs_background": "light"
     },
     "output_type": "display_data"
    },
    {
     "data": {
      "text/plain": "<Figure size 432x288 with 1 Axes>",
      "image/png": "[encoded data removed]"
     },
     "metadata": {
      "needs_background": "light"
     },
     "output_type": "display_data"
    }
   ],
   "source": [
    "#Graph Calc\n",
    "dataframe[\"Close\"].plot(title=\"Absolut Performance SMI\", color='black')\n",
    "value = dataframe['Close'][-1] * (dataframe['Renditeverteilung'].median() / 100 + 1)\n",
    "print(value)\n",
    "plt.axhline(y=value)\n",
    "plt.axhline(y=dataframe['Close'][-1] * (df['Max_Prediction_Value'][-1]  / 100 + 1))\n",
    "plt.axhline(y=dataframe['Close'][-1] * (df['Min_Prediction_Value'][-1]  / 100 + 1))\n",
    "\n",
    "plt.show()\n",
    "\n",
    "\n",
    "#Generates Plot chart with Median as line.\n",
    "\n",
    "plt.figure()\n",
    "plt.plot(dataframe.index,dataframe['Renditeverteilung'], '.-', color='black')\n",
    "plt.axhline(y=dataframe['Renditeverteilung'].median() + statistics.pstdev(dataframe['Renditeverteilung']))\n",
    "plt.axhline(y=dataframe['Renditeverteilung'].median())\n",
    "plt.axhline(y=dataframe['Renditeverteilung'].median() - statistics.pstdev(dataframe['Renditeverteilung']))\n",
    "\n",
    "plt.title('Median')\n",
    "plt.xticks(rotation=45)\n",
    "plt.show()\n",
    "\n",
    "\n"
   ],
   "metadata": {
    "collapsed": false,
    "pycharm": {
     "name": "#%%\n"
    }
   }
  }
 ],
 "metadata": {
  "kernelspec": {
   "display_name": "Python 3",
   "language": "python",
   "name": "python3"
  },
  "language_info": {
   "codemirror_mode": {
    "name": "ipython",
    "version": 2
   },
   "file_extension": ".py",
   "mimetype": "text/x-python",
   "name": "python",
   "nbconvert_exporter": "python",
   "pygments_lexer": "ipython2",
   "version": "2.7.6"
  }
 },
 "nbformat": 4,
 "nbformat_minor": 0
}